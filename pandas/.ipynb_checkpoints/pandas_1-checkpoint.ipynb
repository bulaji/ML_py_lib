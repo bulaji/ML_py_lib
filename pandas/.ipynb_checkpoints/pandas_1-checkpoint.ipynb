{
 "cells": [
  {
   "cell_type": "code",
   "execution_count": 24,
   "metadata": {},
   "outputs": [],
   "source": [
    "import pandas\n",
    "food_info = pandas.read_csv(\"food_info.csv\")"
   ]
  },
  {
   "cell_type": "code",
   "execution_count": 7,
   "metadata": {},
   "outputs": [
    {
     "data": {
      "text/plain": [
       "(8618, 36)"
      ]
     },
     "execution_count": 7,
     "metadata": {},
     "output_type": "execute_result"
    }
   ],
   "source": [
    "first_rows = food_info.head()#默认显示前五行\n",
    "#first_rows\n",
    "#food_info.head(3) #显示前三行\n",
    "#food_info.columns #获取列名 \n",
    "food_info.shape  #查看行数和列数 "
   ]
  },
  {
   "cell_type": "code",
   "execution_count": 10,
   "metadata": {},
   "outputs": [],
   "source": [
    "#下标从0开始\n",
    "#food_info.loc[0]#显示第一行数据\n",
    "#food_info.loc[6]#显示第七行数据"
   ]
  },
  {
   "cell_type": "code",
   "execution_count": 23,
   "metadata": {},
   "outputs": [],
   "source": [
    "#object - For string values\n",
    "#int - For integer values\n",
    "#float - For float values\n",
    "#datetime - For time values\n",
    "#bool - For Boolean values\n",
    "#print(food_info.dtypes)"
   ]
  },
  {
   "cell_type": "code",
   "execution_count": 22,
   "metadata": {},
   "outputs": [],
   "source": [
    "# DataFrame 的 3, 4, 5, 6行.\n",
    "#food_info.loc[3:6]\n",
    "\n",
    "# #返回2，5,10 行\n",
    "# two_five_ten = [2,5,10] \n",
    "# food_info.loc[two_five_ten]\n",
    "\n",
    "# 方法2\n",
    "#food_info.loc[[2,5,10]]"
   ]
  },
  {
   "cell_type": "code",
   "execution_count": 16,
   "metadata": {},
   "outputs": [],
   "source": [
    "# 显示某一列\n",
    "# ndb_col = food_info[\"NDB_No\"]\n",
    "# print (ndb_col)"
   ]
  },
  {
   "cell_type": "code",
   "execution_count": 18,
   "metadata": {},
   "outputs": [],
   "source": [
    "#获得某几列\n",
    "# columns = [\"Zinc_(mg)\", \"Copper_(mg)\"]\n",
    "# zinc_copper = food_info[columns]\n",
    "# print (zinc_copper)\n",
    "# 这样更简单\n",
    "#zinc_copper = food_info[[\"Zinc_(mg)\", \"Copper_(mg)\"]]"
   ]
  },
  {
   "cell_type": "code",
   "execution_count": 21,
   "metadata": {},
   "outputs": [],
   "source": [
    "#将列名转成list\n",
    "# col_names = food_info.columns.tolist()\n",
    "# print (col_names)\n",
    "\n",
    "\n",
    "# #获取列名list中包含（g）的列\n",
    "# gram_columns = []\n",
    "# for c in col_names:\n",
    "#     if c.endswith(\"(g)\"):\n",
    "#         gram_columns.append(c)\n",
    "        \n",
    "# gram_df = food_info[gram_columns]\n",
    "# gram_df.head(3)"
   ]
  },
  {
   "cell_type": "code",
   "execution_count": null,
   "metadata": {
    "collapsed": true
   },
   "outputs": [],
   "source": []
  }
 ],
 "metadata": {
  "kernelspec": {
   "display_name": "Python 3",
   "language": "python",
   "name": "python3"
  },
  "language_info": {
   "codemirror_mode": {
    "name": "ipython",
    "version": 3
   },
   "file_extension": ".py",
   "mimetype": "text/x-python",
   "name": "python",
   "nbconvert_exporter": "python",
   "pygments_lexer": "ipython3",
   "version": "3.7.0"
  }
 },
 "nbformat": 4,
 "nbformat_minor": 1
}
