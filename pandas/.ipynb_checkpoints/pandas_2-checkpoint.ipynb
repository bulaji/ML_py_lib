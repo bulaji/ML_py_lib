{
 "cells": [
  {
   "cell_type": "code",
   "execution_count": 1,
   "metadata": {},
   "outputs": [],
   "source": [
    "import pandas\n",
    "food_info = pandas.read_csv(\"food_info.csv\")\n",
    "col_names = food_info.columns.tolist()\n"
   ]
  },
  {
   "cell_type": "code",
   "execution_count": 4,
   "metadata": {},
   "outputs": [],
   "source": [
    "#处理某一列数据\n",
    "#除\n",
    "# print (food_info[\"Iron_(mg)\"])\n",
    "# div_1000 = food_info[\"Iron_(mg)\"] / 1000\n",
    "# print (div_1000)\n",
    "#加\n",
    "#add_100 = food_info[\"Iron_(mg)\"] + 100\n",
    "#减\n",
    "#sub_100 = food_info[\"Iron_(mg)\"] - 100\n",
    "#乘\n",
    "#mult_2 = food_info[\"Iron_(mg)\"]*2\n"
   ]
  },
  {
   "cell_type": "code",
   "execution_count": 8,
   "metadata": {},
   "outputs": [],
   "source": [
    "# #操作一列或几列数据获得新列\n",
    "# water_energy = food_info[\"Water_(g)\"] * food_info[\"Energ_Kcal\"]#返回的Series\n",
    "# food_info[\"Water_energy\"] = water_energy\n",
    "# #一列\n",
    "# iron_grams = food_info[\"Iron_(mg)\"] / 1000  \n",
    "# food_info[\"Iron_(g)\"] = iron_grams\n",
    "# food_info.columns"
   ]
  },
  {
   "cell_type": "code",
   "execution_count": 10,
   "metadata": {},
   "outputs": [],
   "source": [
    "#结果=2×(Protein_(g))−0.75×(Lipid_Tot_(g))\n",
    "# weighted_protein = food_info[\"Protein_(g)\"] * 2\n",
    "# weighted_fat = -0.75 * food_info[\"Lipid_Tot_(g)\"]\n",
    "# initial_rating = weighted_protein + weighted_fat#返回的Series"
   ]
  },
  {
   "cell_type": "code",
   "execution_count": 13,
   "metadata": {},
   "outputs": [],
   "source": [
    "# #由于有些列的值相对较小，有些列的值很大，那么数值大的列对结果的影响就会很大，所以需要归一化\n",
    "# #获取卡路里值最大的\n",
    "# max_calories = food_info[\"Energ_Kcal\"].max()\n",
    "# # 归一化Energ_Kcal列\n",
    "# normalized_calories = food_info[\"Energ_Kcal\"] / max_calories\n",
    "# #归一化Protein_(g)列\n",
    "# normalized_protein = food_info[\"Protein_(g)\"] / food_info[\"Protein_(g)\"].max()\n",
    "# #归一化Lipid_Tot_(g)列\n",
    "# normalized_fat = food_info[\"Lipid_Tot_(g)\"] / food_info[\"Lipid_Tot_(g)\"].max()\n",
    "# food_info[\"Normalized_Protein\"] = normalized_protein\n",
    "# food_info[\"Normalized_Fat\"] = normalized_fat\n",
    "# food_info.columns"
   ]
  },
  {
   "cell_type": "code",
   "execution_count": 18,
   "metadata": {},
   "outputs": [],
   "source": [
    "# #对数据进行排序\n",
    "# food_info.sort_values(\"Sodium_(mg)\", inplace=True)#inplace默认False，否则排序之后的数据直接替换原来的数据框\n",
    "# print(food_info[\"Sodium_(mg)\"])\n",
    "# food_info.sort_values(\"Sodium_(mg)\", inplace=True, ascending=False)#ascending默认True升序排列；False降序排列\n",
    "# #print food_info[\"Sodium_(mg)\"]"
   ]
  },
  {
   "cell_type": "code",
   "execution_count": null,
   "metadata": {
    "collapsed": true
   },
   "outputs": [],
   "source": []
  }
 ],
 "metadata": {
  "kernelspec": {
   "display_name": "Python 3",
   "language": "python",
   "name": "python3"
  },
  "language_info": {
   "codemirror_mode": {
    "name": "ipython",
    "version": 3
   },
   "file_extension": ".py",
   "mimetype": "text/x-python",
   "name": "python",
   "nbconvert_exporter": "python",
   "pygments_lexer": "ipython3",
   "version": "3.7.0"
  }
 },
 "nbformat": 4,
 "nbformat_minor": 1
}
