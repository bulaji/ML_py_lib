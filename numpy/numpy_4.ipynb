{
 "cells": [
  {
   "cell_type": "code",
   "execution_count": 2,
   "metadata": {},
   "outputs": [
    {
     "name": "stdout",
     "output_type": "stream",
     "text": [
      "[0 1 2]\n",
      "[0.         1.         1.41421356]\n"
     ]
    }
   ],
   "source": [
    "import numpy as np\n",
    "B = np.arange(3)\n",
    "print (B)\n",
    "#print (np.exp(B))\n",
    "print (np.sqrt(B))"
   ]
  },
  {
   "cell_type": "code",
   "execution_count": 18,
   "metadata": {
    "scrolled": true
   },
   "outputs": [
    {
     "name": "stdout",
     "output_type": "stream",
     "text": [
      "[[ 0.  7.  7.  3.]\n",
      " [ 5.  0.  7.  8.]\n",
      " [ 4.  9.  8.  9.]]\n",
      "[ 0.  7.  7.  3.  5.  0.  7.  8.  4.  9.  8.  9.]\n",
      "[[ 0.  7.  7.  3.]\n",
      " [ 5.  0.  7.  8.]\n",
      " [ 4.  9.  8.  9.]]\n",
      "[ 0.  7.  7.  3.  5.  0.  7.  8.  4.  9.  8.  9.]\n",
      "[ 0.  5.  4.  7.  0.  9.  7.  7.  8.  3.  8.  9.]\n"
     ]
    }
   ],
   "source": [
    "#返回不大于输入参数的最大整数\n",
    "a = np.floor(10*np.random.random((3,4)))\n",
    "print (a)\n",
    "\n",
    "# print(a.shape)\n",
    "# # 将多维数组降位一维，行序优先\n",
    "# print (a.ravel())\n",
    "# print(a.ravel('F'))#列序优先\n",
    "##同a.ravel()将多维数组降位一维,两者的区别在于flatten返回拷贝（copy）ravel返回视图（view）\n",
    "#print(a.flatten())\n",
    "# a.shape = (6, 2)\n",
    "# print (a) \n",
    "# print (a.T)#a.T表示a的转置\n",
    "# print (a.resize((2,6)))\n",
    "# print (a)\n",
    "\n",
    "#reshape函数当参数只有一个-1时表示将数组降为一维\n",
    "#如果整形操作中给定的维度为-1，则自动计算其他维度\n",
    "print(a.reshape(3,-1))\n",
    "print(a.reshape(-1))\n",
    "print(a.T.reshape(-1))"
   ]
  },
  {
   "cell_type": "code",
   "execution_count": 20,
   "metadata": {},
   "outputs": [
    {
     "name": "stdout",
     "output_type": "stream",
     "text": [
      "[[ 6.  4.]\n",
      " [ 3.  8.]]\n",
      "---\n",
      "[[ 3.  3.]\n",
      " [ 0.  6.]]\n",
      "---\n",
      "[[ 6.  4.]\n",
      " [ 3.  8.]\n",
      " [ 3.  3.]\n",
      " [ 0.  6.]]\n",
      "[[ 6.  4.  3.  3.]\n",
      " [ 3.  8.  0.  6.]]\n"
     ]
    }
   ],
   "source": [
    "a = np.floor(10*np.random.random((2,2)))\n",
    "b = np.floor(10*np.random.random((2,2)))\n",
    "print (a)\n",
    "print ('---')\n",
    "print (b)\n",
    "print ('---')\n",
    "print(np.vstack((a,b)))#沿着竖直方向将矩阵堆叠起来\n",
    "print(np.hstack((a,b)))#沿着水平方向将数组堆叠起来"
   ]
  },
  {
   "cell_type": "code",
   "execution_count": 28,
   "metadata": {},
   "outputs": [
    {
     "name": "stdout",
     "output_type": "stream",
     "text": [
      "[[ 7.  6.  4.  5.  3.  6.  8.  4.  5.  0.  0.  8.]\n",
      " [ 4.  0.  1.  8.  3.  9.  4.  9.  7.  3.  3.  9.]]\n",
      "[array([[ 7.,  6.,  4.,  5.],\n",
      "       [ 4.,  0.,  1.,  8.]]), array([[ 3.,  6.,  8.,  4.],\n",
      "       [ 3.,  9.,  4.,  9.]]), array([[ 5.,  0.,  0.,  8.],\n",
      "       [ 7.,  3.,  3.,  9.]])]\n",
      "[array([[ 7.,  6.,  4.],\n",
      "       [ 4.,  0.,  1.]]), array([[ 5.],\n",
      "       [ 8.]]), array([[ 3.,  6.,  8.,  4.,  5.,  0.,  0.,  8.],\n",
      "       [ 3.,  9.,  4.,  9.,  7.,  3.,  3.,  9.]])]\n",
      "[[ 2.  4.]\n",
      " [ 3.  9.]\n",
      " [ 9.  5.]\n",
      " [ 1.  6.]\n",
      " [ 6.  0.]\n",
      " [ 1.  0.]\n",
      " [ 8.  6.]\n",
      " [ 5.  9.]\n",
      " [ 8.  3.]\n",
      " [ 5.  7.]\n",
      " [ 8.  2.]\n",
      " [ 1.  6.]]\n",
      "[array([[ 2.,  4.],\n",
      "       [ 3.,  9.],\n",
      "       [ 9.,  5.],\n",
      "       [ 1.,  6.]]), array([[ 6.,  0.],\n",
      "       [ 1.,  0.],\n",
      "       [ 8.,  6.],\n",
      "       [ 5.,  9.]]), array([[ 8.,  3.],\n",
      "       [ 5.,  7.],\n",
      "       [ 8.,  2.],\n",
      "       [ 1.,  6.]])]\n"
     ]
    }
   ],
   "source": [
    "a = np.floor(10*np.random.random((2,12)))\n",
    "print (a)\n",
    "print (np.hsplit(a,3))  #水平方向切成3个\n",
    "print (np.hsplit(a,(3,4)))   #水平方向下标为3处切以下，4处切一下\n",
    "a = np.floor(10*np.random.random((12,2)))\n",
    "print (a)\n",
    "print(np.vsplit(a,3))  #竖直方向切成3个"
   ]
  },
  {
   "cell_type": "code",
   "execution_count": 46,
   "metadata": {},
   "outputs": [
    {
     "name": "stdout",
     "output_type": "stream",
     "text": [
      "(3, 4)\n",
      "1501079060688\n",
      "1501079060688\n",
      "(3, 4)\n",
      "[[   0    1    2    3]\n",
      " [1234    5    6    7]\n",
      " [   8    9   10   11]]\n",
      "1501079060688\n",
      "1501079061728\n",
      "True\n",
      "False\n"
     ]
    }
   ],
   "source": [
    "#简单的赋值不会复制数组对象或其数据。\n",
    "a = np.arange(12)\n",
    "b = a\n",
    "b is a\n",
    "b.shape = 3,4\n",
    "print (a.shape)\n",
    "print (id(a))#id类似于c++的取地址&。\n",
    "print (id(b))\n",
    "\n",
    "#视图方法创建一个新的数组对象，该数组对象查看相同的数据。\n",
    "c = a.view()\n",
    "c is a\n",
    "c.shape = 2,6\n",
    "print (a.shape)\n",
    "c[0,4] = 1234\n",
    "print(a)\n",
    "print(id(a))\n",
    "print(id(c))\n",
    "print(a.flags.owndata)#数据由 a 保管\n",
    "print(c.flags.owndata)#c并不保管数据"
   ]
  },
  {
   "cell_type": "code",
   "execution_count": 47,
   "metadata": {},
   "outputs": [
    {
     "name": "stdout",
     "output_type": "stream",
     "text": [
      "[[9999    1    2    3 1234    5]\n",
      " [   6    7    8    9   10   11]]\n",
      "[[   0    1    2    3]\n",
      " [1234    5    6    7]\n",
      " [   8    9   10   11]]\n",
      "1501079060608\n",
      "1501079060688\n",
      "True\n",
      "True\n"
     ]
    }
   ],
   "source": [
    "#复制方法对数组及其数据进行完整的复制。\n",
    "d = a.copy() \n",
    "d[0,0] = 9999\n",
    "d.shape=2,6\n",
    "print (d) \n",
    "print (a)\n",
    "print(id(d))\n",
    "print(id(a))\n",
    "print(a.flags.owndata)\n",
    "print(d.flags.owndata)"
   ]
  },
  {
   "cell_type": "code",
   "execution_count": null,
   "metadata": {
    "collapsed": true
   },
   "outputs": [],
   "source": []
  },
  {
   "cell_type": "code",
   "execution_count": null,
   "metadata": {
    "collapsed": true
   },
   "outputs": [],
   "source": []
  }
 ],
 "metadata": {
  "kernelspec": {
   "display_name": "Python 3",
   "language": "python",
   "name": "python3"
  },
  "language_info": {
   "codemirror_mode": {
    "name": "ipython",
    "version": 3
   },
   "file_extension": ".py",
   "mimetype": "text/x-python",
   "name": "python",
   "nbconvert_exporter": "python",
   "pygments_lexer": "ipython3",
   "version": "3.7.0"
  }
 },
 "nbformat": 4,
 "nbformat_minor": 1
}
