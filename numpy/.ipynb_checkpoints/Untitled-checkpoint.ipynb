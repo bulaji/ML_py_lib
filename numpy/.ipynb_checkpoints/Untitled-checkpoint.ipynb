{
 "cells": [
  {
   "cell_type": "code",
   "execution_count": 1,
   "metadata": {},
   "outputs": [
    {
     "name": "stdout",
     "output_type": "stream",
     "text": [
      "[[0 1 0 1 0 1 0 1]\n",
      " [1 0 1 0 1 0 1 0]\n",
      " [0 1 0 1 0 1 0 1]\n",
      " [1 0 1 0 1 0 1 0]\n",
      " [0 1 0 1 0 1 0 1]\n",
      " [1 0 1 0 1 0 1 0]\n",
      " [0 1 0 1 0 1 0 1]\n",
      " [1 0 1 0 1 0 1 0]]\n"
     ]
    }
   ],
   "source": [
    "import numpy as np\n",
    "#1:8*8棋盘矩阵，其中1、3、5、7行&&0、2、4、6列的元素置为1   1 ,3，5，7列&&0,2,4,6行也是1\n",
    "z = np.zeros((8,8),dtype=int)\n",
    "z[1::2,::2] = 1\n",
    "z[::2,1::2] = 1\n",
    "print (z)\n"
   ]
  },
  {
   "cell_type": "code",
   "execution_count": 2,
   "metadata": {
    "collapsed": true
   },
   "outputs": [],
   "source": [
    "#2：min()、max()函数"
   ]
  },
  {
   "cell_type": "code",
   "execution_count": 5,
   "metadata": {
    "scrolled": true
   },
   "outputs": [
    {
     "name": "stdout",
     "output_type": "stream",
     "text": [
      "[[ 0.84029469  0.46384269  0.36852828]\n",
      " [ 0.07069689  0.56705846  0.77038797]\n",
      " [ 0.52800265  0.78804068  0.13774742]]\n",
      "0.0706968873822\n",
      "0.84029468766\n"
     ]
    }
   ],
   "source": [
    "z = np.random.random((3,3))\n",
    "zmin,zmax = z.min(),z.max()\n",
    "print(z)\n",
    "print(zmin)\n",
    "print(zmax)"
   ]
  },
  {
   "cell_type": "code",
   "execution_count": 6,
   "metadata": {},
   "outputs": [
    {
     "name": "stdout",
     "output_type": "stream",
     "text": [
      "[[ 1.20531814  7.46038503  2.58754706  1.20155973  4.1877128 ]\n",
      " [ 0.18874335  7.64342377  1.75640824  6.01289712  6.29037593]\n",
      " [ 1.31281412  6.13678997  7.34076848  9.87995855  7.45940069]\n",
      " [ 4.80968545  5.41507243  3.57250603  9.22239424  2.72454157]\n",
      " [ 1.87001592  5.95232271  7.70027405  7.12073471  8.14954742]]\n",
      "[[ 0.10489652  0.75033332  0.24752352  0.10450871  0.4126386 ]\n",
      " [ 0.          0.7692204   0.16176144  0.60097249  0.62960449]\n",
      " [ 0.11598863  0.61375653  0.73799054  1.          0.75023175]\n",
      " [ 0.47681761  0.53928522  0.34915773  0.93214842  0.26165947]\n",
      " [ 0.17348419  0.59472205  0.77508656  0.71528608  0.82144539]]\n"
     ]
    }
   ],
   "source": [
    "#归一化，将矩阵规格化到0～1，即最小的变成0，最大的变成1，最小与最大之间的等比缩放\n",
    "z = 10*np.random.random((5,5))\n",
    "print (z)\n",
    "zmin,zmax = z.min(),z.max()\n",
    "z = (z-zmin)/(zmax-zmin)\n",
    "print (z)"
   ]
  },
  {
   "cell_type": "code",
   "execution_count": 7,
   "metadata": {},
   "outputs": [
    {
     "name": "stdout",
     "output_type": "stream",
     "text": [
      "[0 1 2 3 4]\n",
      "[[ 0.  1.  2.  3.  4.]\n",
      " [ 0.  1.  2.  3.  4.]\n",
      " [ 0.  1.  2.  3.  4.]\n",
      " [ 0.  1.  2.  3.  4.]\n",
      " [ 0.  1.  2.  3.  4.]]\n"
     ]
    }
   ],
   "source": [
    "#矩阵相加\n",
    "z = np.zeros((5,5))\n",
    "z += np.arange(5)\n",
    "print (np.arange(5))\n",
    "print (z)\n"
   ]
  },
  {
   "cell_type": "code",
   "execution_count": 8,
   "metadata": {},
   "outputs": [
    {
     "name": "stdout",
     "output_type": "stream",
     "text": [
      "(array([  0.,   1.,   2.,   3.,   4.,   5.,   6.,   7.,   8.,   9.,  10.]), 1.0)\n"
     ]
    }
   ],
   "source": [
    "#生成0~10之间均匀分布的11个数，包括0和10\n",
    "\n",
    "z = np.linspace(0,10,11,endpoint=True,retstep=True)\n",
    "print (z)\n"
   ]
  },
  {
   "cell_type": "code",
   "execution_count": 9,
   "metadata": {},
   "outputs": [],
   "source": [
    "#  help(np.linspace)"
   ]
  },
  {
   "cell_type": "code",
   "execution_count": null,
   "metadata": {
    "collapsed": true
   },
   "outputs": [],
   "source": []
  }
 ],
 "metadata": {
  "kernelspec": {
   "display_name": "Python 3",
   "language": "python",
   "name": "python3"
  },
  "language_info": {
   "codemirror_mode": {
    "name": "ipython",
    "version": 3
   },
   "file_extension": ".py",
   "mimetype": "text/x-python",
   "name": "python",
   "nbconvert_exporter": "python",
   "pygments_lexer": "ipython3",
   "version": "3.6.2"
  }
 },
 "nbformat": 4,
 "nbformat_minor": 1
}
