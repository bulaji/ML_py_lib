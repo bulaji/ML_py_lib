{
 "cells": [
  {
   "cell_type": "code",
   "execution_count": 9,
   "metadata": {},
   "outputs": [
    {
     "name": "stdout",
     "output_type": "stream",
     "text": [
      "<type 'numpy.ndarray'>\n"
     ]
    }
   ],
   "source": [
    "import numpy\n",
    "\n",
    "world_alcohol = numpy.genfromtxt(\"world_alcohol.txt\", delimiter=\",\")\n",
    "print(type(world_alcohol))"
   ]
  },
  {
   "cell_type": "code",
   "execution_count": 3,
   "metadata": {},
   "outputs": [
    {
     "name": "stdout",
     "output_type": "stream",
     "text": [
      "[ 5 10 15 20]\n",
      "[[ 5 10 15]\n",
      " [20 25 30]\n",
      " [35 40 45]]\n"
     ]
    }
   ],
   "source": [
    "#array()函数可以接受一个或多个list作为输入。当我们输入一个列表，我们得到一个一维数组的结果:\n",
    "vector = numpy.array([5, 10, 15, 20])\n",
    "#当我们输入几个list，我们得到一个矩阵的结果:\n",
    "matrix = numpy.array([[5, 10, 15], [20, 25, 30], [35, 40, 45]])\n",
    "print vector\n",
    "print matrix"
   ]
  },
  {
   "cell_type": "code",
   "execution_count": 4,
   "metadata": {},
   "outputs": [
    {
     "name": "stdout",
     "output_type": "stream",
     "text": [
      "(4,)\n",
      "(2, 3)\n"
     ]
    }
   ],
   "source": [
    "#我们可以用ndarray.shape属性来计算数组中有多少元素\n",
    "vector = numpy.array([1, 2, 3, 4])\n",
    "print(vector.shape)\n",
    "#对于矩阵，shape属性包含一个包含两个元素的元组\n",
    "matrix = numpy.array([[5, 10, 15], [20, 25, 30]])\n",
    "print(matrix.shape)"
   ]
  },
  {
   "cell_type": "code",
   "execution_count": 5,
   "metadata": {},
   "outputs": [
    {
     "data": {
      "text/plain": [
       "dtype('int32')"
      ]
     },
     "execution_count": 5,
     "metadata": {},
     "output_type": "execute_result"
    }
   ],
   "source": [
    "#NumPy数组中的每个值必须具有相同的数据类型\n",
    "#当读取数据或将列表转换为数组时，NumPy将自动计算出适当的数据类型。\n",
    "#可以使用dtype属性检查NumPy数组的数据类型。\n",
    "numbers = numpy.array([1, 2, 3, 4])\n",
    "numbers.dtype"
   ]
  },
  {
   "cell_type": "code",
   "execution_count": 10,
   "metadata": {},
   "outputs": [
    {
     "data": {
      "text/plain": [
       "array([[             nan,              nan,              nan,\n",
       "                     nan,              nan],\n",
       "       [  1.98600000e+03,              nan,              nan,\n",
       "                     nan,   0.00000000e+00],\n",
       "       [  1.98600000e+03,              nan,              nan,\n",
       "                     nan,   5.00000000e-01],\n",
       "       ..., \n",
       "       [  1.98700000e+03,              nan,              nan,\n",
       "                     nan,   7.50000000e-01],\n",
       "       [  1.98900000e+03,              nan,              nan,\n",
       "                     nan,   1.50000000e+00],\n",
       "       [  1.98500000e+03,              nan,              nan,\n",
       "                     nan,   3.10000000e-01]])"
      ]
     },
     "execution_count": 10,
     "metadata": {},
     "output_type": "execute_result"
    }
   ],
   "source": [
    "#当NumPy无法将值转换为浮点或整数之类的数字数据类型时，它将使用一个特殊的nan值，该值表示非数字\n",
    "#nan = not a number\n",
    "world_alcohol"
   ]
  },
  {
   "cell_type": "code",
   "execution_count": 11,
   "metadata": {},
   "outputs": [
    {
     "name": "stdout",
     "output_type": "stream",
     "text": [
      "[[u'1986' u'Western Pacific' u'Viet Nam' u'Wine' u'0']\n",
      " [u'1986' u'Americas' u'Uruguay' u'Other' u'0.5']\n",
      " [u'1985' u'Africa' u\"Cte d'Ivoire\" u'Wine' u'1.62']\n",
      " ..., \n",
      " [u'1987' u'Africa' u'Malawi' u'Other' u'0.75']\n",
      " [u'1989' u'Americas' u'Bahamas' u'Wine' u'1.5']\n",
      " [u'1985' u'Africa' u'Malawi' u'Spirits' u'0.31']]\n"
     ]
    }
   ],
   "source": [
    "world_alcohol = numpy.genfromtxt(\"world_alcohol.txt\", delimiter=\",\", dtype=\"U75\", skip_header=1)\n",
    "print(world_alcohol)"
   ]
  },
  {
   "cell_type": "code",
   "execution_count": 12,
   "metadata": {},
   "outputs": [
    {
     "name": "stdout",
     "output_type": "stream",
     "text": [
      "0.5\n",
      "Cte d'Ivoire\n"
     ]
    }
   ],
   "source": [
    "uruguay_other_1986 = world_alcohol[1,4]\n",
    "third_country = world_alcohol[2,2]\n",
    "print uruguay_other_1986\n",
    "print third_country"
   ]
  },
  {
   "cell_type": "code",
   "execution_count": 13,
   "metadata": {},
   "outputs": [
    {
     "name": "stdout",
     "output_type": "stream",
     "text": [
      "[ 5 10 15]\n"
     ]
    }
   ],
   "source": [
    "vector = numpy.array([5, 10, 15, 20])\n",
    "print(vector[0:3])  "
   ]
  },
  {
   "cell_type": "code",
   "execution_count": 14,
   "metadata": {},
   "outputs": [
    {
     "name": "stdout",
     "output_type": "stream",
     "text": [
      "[10 25 40]\n"
     ]
    }
   ],
   "source": [
    "matrix = numpy.array([\n",
    "                    [5, 10, 15], \n",
    "                    [20, 25, 30],\n",
    "                    [35, 40, 45]\n",
    "                 ])\n",
    "print(matrix[:,1])"
   ]
  },
  {
   "cell_type": "code",
   "execution_count": 15,
   "metadata": {},
   "outputs": [
    {
     "name": "stdout",
     "output_type": "stream",
     "text": [
      "[[ 5 10]\n",
      " [20 25]\n",
      " [35 40]]\n"
     ]
    }
   ],
   "source": [
    "matrix = numpy.array([\n",
    "                    [5, 10, 15], \n",
    "                    [20, 25, 30],\n",
    "                    [35, 40, 45]\n",
    "                 ])\n",
    "print(matrix[:,0:2])"
   ]
  },
  {
   "cell_type": "code",
   "execution_count": 12,
   "metadata": {},
   "outputs": [
    {
     "name": "stdout",
     "output_type": "stream",
     "text": [
      "[[20 25]\n",
      " [35 40]]\n"
     ]
    }
   ],
   "source": [
    "matrix = numpy.array([\n",
    "                    [5, 10, 15], \n",
    "                    [20, 25, 30],\n",
    "                    [35, 40, 45]\n",
    "                 ])\n",
    "print(matrix[1:3,0:2])"
   ]
  },
  {
   "cell_type": "code",
   "execution_count": null,
   "metadata": {
    "collapsed": true
   },
   "outputs": [],
   "source": []
  }
 ],
 "metadata": {
  "kernelspec": {
   "display_name": "Python 3",
   "language": "python",
   "name": "python3"
  },
  "language_info": {
   "codemirror_mode": {
    "name": "ipython",
    "version": 3
   },
   "file_extension": ".py",
   "mimetype": "text/x-python",
   "name": "python",
   "nbconvert_exporter": "python",
   "pygments_lexer": "ipython3",
   "version": "3.6.2"
  }
 },
 "nbformat": 4,
 "nbformat_minor": 1
}
