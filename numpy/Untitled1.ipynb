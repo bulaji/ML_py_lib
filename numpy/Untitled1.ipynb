{
 "cells": [
  {
   "cell_type": "code",
   "execution_count": 1,
   "metadata": {},
   "outputs": [
    {
     "name": "stdout",
     "output_type": "stream",
     "text": [
      "[[ 0  1  2  3  4]\n",
      " [ 5  6  7  8  9]\n",
      " [10 11 12 13 14]\n",
      " [15 16 17 18 19]\n",
      " [20 21 22 23 24]]\n",
      "[[ 5  6  7  8  9]\n",
      " [ 0  1  2  3  4]\n",
      " [10 11 12 13 14]\n",
      " [15 16 17 18 19]\n",
      " [20 21 22 23 24]]\n"
     ]
    }
   ],
   "source": [
    "import numpy as np\n",
    "#交换矩阵的其中两行\n",
    "a = np.arange(25).reshape(5,5)\n",
    "print (a)\n",
    "a[[0,1]] = a[[1,0]]\n",
    "print (a)"
   ]
  },
  {
   "cell_type": "code",
   "execution_count": 4,
   "metadata": {},
   "outputs": [
    {
     "name": "stdout",
     "output_type": "stream",
     "text": [
      "2\n"
     ]
    }
   ],
   "source": [
    "#找出数组中与给定值最接近的数\n",
    "z = np.array([[0,1,3,2],[4,5,6,7]])\n",
    "a = 3.4\n",
    "print (np.abs(z-a).argmin())# 给出axis方向最小值的下标 模型axis = 1"
   ]
  },
  {
   "cell_type": "code",
   "execution_count": 5,
   "metadata": {},
   "outputs": [
    {
     "name": "stdout",
     "output_type": "stream",
     "text": [
      "[[1 2 1 0 0 0 0 2 1 1]\n",
      " [2 1 1 2 0 1 2 0 0 2]]\n",
      "[ True  True  True  True False  True  True  True  True  True]\n"
     ]
    }
   ],
   "source": [
    "#判断二维矩阵中有没有一整列数为0？\n",
    "z = np.random.randint(0,3,(2,10))#产生离散均匀分布的整数，这些整数大于等于low，小于high。\n",
    "print (z)\n",
    "print (z.any(axis=0))"
   ]
  },
  {
   "cell_type": "code",
   "execution_count": 8,
   "metadata": {},
   "outputs": [
    {
     "name": "stdout",
     "output_type": "stream",
     "text": [
      "[[-1.  -0.5  0.   0.5  1. ]\n",
      " [-1.  -0.5  0.   0.5  1. ]\n",
      " [-1.  -0.5  0.   0.5  1. ]\n",
      " [-1.  -0.5  0.   0.5  1. ]\n",
      " [-1.  -0.5  0.   0.5  1. ]]\n",
      "---\n",
      "[[-1.  -1.  -1.  -1.  -1. ]\n",
      " [-0.5 -0.5 -0.5 -0.5 -0.5]\n",
      " [ 0.   0.   0.   0.   0. ]\n",
      " [ 0.5  0.5  0.5  0.5  0.5]\n",
      " [ 1.   1.   1.   1.   1. ]]\n",
      "---\n",
      "[[ 1.41421356  1.11803399  1.          1.11803399  1.41421356]\n",
      " [ 1.11803399  0.70710678  0.5         0.70710678  1.11803399]\n",
      " [ 1.          0.5         0.          0.5         1.        ]\n",
      " [ 1.11803399  0.70710678  0.5         0.70710678  1.11803399]\n",
      " [ 1.41421356  1.11803399  1.          1.11803399  1.41421356]]\n",
      "---\n",
      "[[ 0.36787944  0.53526143  0.60653066  0.53526143  0.36787944]\n",
      " [ 0.53526143  0.77880078  0.8824969   0.77880078  0.53526143]\n",
      " [ 0.60653066  0.8824969   1.          0.8824969   0.60653066]\n",
      " [ 0.53526143  0.77880078  0.8824969   0.77880078  0.53526143]\n",
      " [ 0.36787944  0.53526143  0.60653066  0.53526143  0.36787944]]\n"
     ]
    }
   ],
   "source": [
    "#生成二维的高斯矩阵\n",
    "x,y = np.meshgrid(np.linspace(-1,1,5),np.linspace(-1,1,5))  #linspace  指定的间隔内返回均匀间隔的数字\n",
    "print (x)\n",
    "print ('---')\n",
    "print (y)\n",
    "print ('---')\n",
    "D = np.sqrt(x**2+y**2)\n",
    "print (D)\n",
    "print ('---')\n",
    "sigma,mu = 1,0\n",
    "a = np.exp(-(D-mu)**2/(2*sigma**2))\n",
    "print (a)"
   ]
  },
  {
   "cell_type": "code",
   "execution_count": null,
   "metadata": {
    "collapsed": true
   },
   "outputs": [],
   "source": []
  }
 ],
 "metadata": {
  "kernelspec": {
   "display_name": "Python 3",
   "language": "python",
   "name": "python3"
  },
  "language_info": {
   "codemirror_mode": {
    "name": "ipython",
    "version": 3
   },
   "file_extension": ".py",
   "mimetype": "text/x-python",
   "name": "python",
   "nbconvert_exporter": "python",
   "pygments_lexer": "ipython3",
   "version": "3.6.2"
  }
 },
 "nbformat": 4,
 "nbformat_minor": 1
}
